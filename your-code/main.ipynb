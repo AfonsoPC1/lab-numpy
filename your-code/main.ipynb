{
 "cells": [
  {
   "cell_type": "markdown",
   "metadata": {},
   "source": [
    "# Intrduction to NumPy\n",
    "\n",
    "\n",
    "#### 1. Import NumPy under the name np."
   ]
  },
  {
   "cell_type": "code",
   "execution_count": 1,
   "metadata": {},
   "outputs": [],
   "source": [
    "import numpy as np"
   ]
  },
  {
   "cell_type": "markdown",
   "metadata": {},
   "source": [
    "#### 2. Print your NumPy version."
   ]
  },
  {
   "cell_type": "code",
   "execution_count": 2,
   "metadata": {},
   "outputs": [
    {
     "name": "stdout",
     "output_type": "stream",
     "text": [
      "1.18.5\n"
     ]
    }
   ],
   "source": [
    "print(np.version.version)"
   ]
  },
  {
   "cell_type": "markdown",
   "metadata": {},
   "source": [
    "#### 3. Generate a 2x3x5 3-dimensional array with random values. Assign the array to variable *a*.\n",
    "**Challenge**: there are at least three easy ways that use numpy to generate random arrays. How many ways can you find?"
   ]
  },
  {
   "cell_type": "code",
   "execution_count": 3,
   "metadata": {},
   "outputs": [
    {
     "data": {
      "text/plain": [
       "array([[[0.22411027, 0.04968136, 0.55738483, 0.85157556, 0.39991632],\n",
       "        [0.47437236, 0.31379251, 0.56235292, 0.64039905, 0.42609936],\n",
       "        [0.19767633, 0.05176309, 0.11005337, 0.33938695, 0.13219192]],\n",
       "\n",
       "       [[0.84921508, 0.89291696, 0.89234494, 0.48065497, 0.28961032],\n",
       "        [0.57796876, 0.43367415, 0.76655694, 0.04375632, 0.78499193],\n",
       "        [0.64587852, 0.57360415, 0.01304968, 0.45824993, 0.78037497]]])"
      ]
     },
     "execution_count": 3,
     "metadata": {},
     "output_type": "execute_result"
    }
   ],
   "source": [
    "np.random.random(30).reshape(2,3,5)"
   ]
  },
  {
   "cell_type": "code",
   "execution_count": 4,
   "metadata": {},
   "outputs": [
    {
     "data": {
      "text/plain": [
       "array([[[0.27760654, 0.12262985, 0.53274516, 0.18607214, 0.67682251],\n",
       "        [0.81947351, 0.93943983, 0.14702093, 0.06150411, 0.03786095],\n",
       "        [0.82504901, 0.08878652, 0.46299898, 0.65397513, 0.86282213]],\n",
       "\n",
       "       [[0.21436172, 0.12184927, 0.57902715, 0.72741181, 0.17408319],\n",
       "        [0.97567844, 0.17340518, 0.01527711, 0.19931186, 0.78324393],\n",
       "        [0.30162831, 0.35811328, 0.63978887, 0.40485898, 0.97201751]]])"
      ]
     },
     "execution_count": 4,
     "metadata": {},
     "output_type": "execute_result"
    }
   ],
   "source": [
    "np.random.random((2,3,5))"
   ]
  },
  {
   "cell_type": "code",
   "execution_count": 5,
   "metadata": {},
   "outputs": [],
   "source": [
    "a=np.random.random((6,5)).reshape(2,3,5)"
   ]
  },
  {
   "cell_type": "markdown",
   "metadata": {},
   "source": [
    "#### 4. Print *a*.\n"
   ]
  },
  {
   "cell_type": "code",
   "execution_count": 6,
   "metadata": {},
   "outputs": [
    {
     "name": "stdout",
     "output_type": "stream",
     "text": [
      "[[[0.2294035  0.42682434 0.65750807 0.40337642 0.93105268]\n",
      "  [0.57448443 0.52850155 0.89015096 0.18430407 0.3660558 ]\n",
      "  [0.3311136  0.82556136 0.78402248 0.94406718 0.61335732]]\n",
      "\n",
      " [[0.44576858 0.97613064 0.15046553 0.86768124 0.68113266]\n",
      "  [0.16420093 0.86891068 0.82288985 0.20622223 0.84213313]\n",
      "  [0.26342093 0.84481112 0.45051671 0.5761941  0.77604096]]]\n"
     ]
    }
   ],
   "source": [
    "print(a)"
   ]
  },
  {
   "cell_type": "markdown",
   "metadata": {},
   "source": [
    "#### 5. Create a 5x2x3 3-dimensional array with all values equaling 1. Assign the array to variable *b*."
   ]
  },
  {
   "cell_type": "code",
   "execution_count": 7,
   "metadata": {},
   "outputs": [],
   "source": [
    "b=np.ones((5,3,2))"
   ]
  },
  {
   "cell_type": "markdown",
   "metadata": {},
   "source": [
    "#### 6. Print *b*.\n"
   ]
  },
  {
   "cell_type": "code",
   "execution_count": 8,
   "metadata": {},
   "outputs": [
    {
     "name": "stdout",
     "output_type": "stream",
     "text": [
      "[[[1. 1.]\n",
      "  [1. 1.]\n",
      "  [1. 1.]]\n",
      "\n",
      " [[1. 1.]\n",
      "  [1. 1.]\n",
      "  [1. 1.]]\n",
      "\n",
      " [[1. 1.]\n",
      "  [1. 1.]\n",
      "  [1. 1.]]\n",
      "\n",
      " [[1. 1.]\n",
      "  [1. 1.]\n",
      "  [1. 1.]]\n",
      "\n",
      " [[1. 1.]\n",
      "  [1. 1.]\n",
      "  [1. 1.]]]\n"
     ]
    }
   ],
   "source": [
    "print(b)"
   ]
  },
  {
   "cell_type": "markdown",
   "metadata": {},
   "source": [
    "#### 7. Do *a* and *b* have the same size? How do you prove that in Python code?"
   ]
  },
  {
   "cell_type": "code",
   "execution_count": 9,
   "metadata": {},
   "outputs": [
    {
     "data": {
      "text/plain": [
       "True"
      ]
     },
     "execution_count": 9,
     "metadata": {},
     "output_type": "execute_result"
    }
   ],
   "source": [
    "np.size(a)==np.size(b)"
   ]
  },
  {
   "cell_type": "markdown",
   "metadata": {},
   "source": [
    "#### 8. Are you able to add *a* and *b*? Why or why not?\n"
   ]
  },
  {
   "cell_type": "code",
   "execution_count": 10,
   "metadata": {},
   "outputs": [],
   "source": [
    "#No, because they don't have the same dimensions, the same shape"
   ]
  },
  {
   "cell_type": "markdown",
   "metadata": {},
   "source": [
    "#### 9. Transpose *b* so that it has the same structure of *a* (i.e. become a 2x3x5 array). Assign the transposed array to variable *c*."
   ]
  },
  {
   "cell_type": "code",
   "execution_count": 11,
   "metadata": {},
   "outputs": [],
   "source": [
    "c=np.transpose(b)"
   ]
  },
  {
   "cell_type": "markdown",
   "metadata": {},
   "source": [
    "#### 10. Try to add *a* and *c*. Now it should work. Assign the sum to variable *d*. But why does it work now?"
   ]
  },
  {
   "cell_type": "code",
   "execution_count": 12,
   "metadata": {},
   "outputs": [],
   "source": [
    "d=a+c\n",
    "#It works now because matrix a and c now have compatible shapes, they have the same dimensions"
   ]
  },
  {
   "cell_type": "markdown",
   "metadata": {},
   "source": [
    "#### 11. Print *a* and *d*. Notice the difference and relation of the two array in terms of the values? Explain."
   ]
  },
  {
   "cell_type": "code",
   "execution_count": 13,
   "metadata": {},
   "outputs": [
    {
     "name": "stdout",
     "output_type": "stream",
     "text": [
      "[[[0.2294035  0.42682434 0.65750807 0.40337642 0.93105268]\n",
      "  [0.57448443 0.52850155 0.89015096 0.18430407 0.3660558 ]\n",
      "  [0.3311136  0.82556136 0.78402248 0.94406718 0.61335732]]\n",
      "\n",
      " [[0.44576858 0.97613064 0.15046553 0.86768124 0.68113266]\n",
      "  [0.16420093 0.86891068 0.82288985 0.20622223 0.84213313]\n",
      "  [0.26342093 0.84481112 0.45051671 0.5761941  0.77604096]]]\n",
      "[[[1.2294035  1.42682434 1.65750807 1.40337642 1.93105268]\n",
      "  [1.57448443 1.52850155 1.89015096 1.18430407 1.3660558 ]\n",
      "  [1.3311136  1.82556136 1.78402248 1.94406718 1.61335732]]\n",
      "\n",
      " [[1.44576858 1.97613064 1.15046553 1.86768124 1.68113266]\n",
      "  [1.16420093 1.86891068 1.82288985 1.20622223 1.84213313]\n",
      "  [1.26342093 1.84481112 1.45051671 1.5761941  1.77604096]]]\n"
     ]
    }
   ],
   "source": [
    "print(a)\n",
    "print(d)\n",
    "#array a and array d differ in each value by one, which is a result of question 10. when array c (which consists of an array of 1's) was added to array a"
   ]
  },
  {
   "cell_type": "markdown",
   "metadata": {},
   "source": [
    "#### 12. Multiply *a* and *c*. Assign the result to *e*."
   ]
  },
  {
   "cell_type": "code",
   "execution_count": 14,
   "metadata": {},
   "outputs": [],
   "source": [
    "e=a*c"
   ]
  },
  {
   "cell_type": "markdown",
   "metadata": {},
   "source": [
    "#### 13. Does *e* equal to *a*? Why or why not?\n"
   ]
  },
  {
   "cell_type": "code",
   "execution_count": 15,
   "metadata": {},
   "outputs": [
    {
     "data": {
      "text/plain": [
       "array([[[ True,  True,  True,  True,  True],\n",
       "        [ True,  True,  True,  True,  True],\n",
       "        [ True,  True,  True,  True,  True]],\n",
       "\n",
       "       [[ True,  True,  True,  True,  True],\n",
       "        [ True,  True,  True,  True,  True],\n",
       "        [ True,  True,  True,  True,  True]]])"
      ]
     },
     "execution_count": 15,
     "metadata": {},
     "output_type": "execute_result"
    }
   ],
   "source": [
    "e==a\n",
    "#Yes, because each element of a was multiply by the corresponding element in c, which is 1. Since any number times 1 equal that number then a==e."
   ]
  },
  {
   "cell_type": "markdown",
   "metadata": {},
   "source": [
    "#### 14. Identify the max, min, and mean values in *d*. Assign those values to variables *d_max*, *d_min* and *d_mean*."
   ]
  },
  {
   "cell_type": "code",
   "execution_count": 16,
   "metadata": {},
   "outputs": [],
   "source": [
    "d_max=np.max(d)\n",
    "d_min=np.min(d)\n",
    "d_mean=np.mean(d)"
   ]
  },
  {
   "cell_type": "markdown",
   "metadata": {},
   "source": [
    "#### 15. Now we want to label the values in *d*. First create an empty array *f* with the same shape (i.e. 2x3x5) as *d* using `np.empty`.\n"
   ]
  },
  {
   "cell_type": "code",
   "execution_count": 17,
   "metadata": {},
   "outputs": [],
   "source": [
    "f=np.empty((2,3,5))"
   ]
  },
  {
   "cell_type": "markdown",
   "metadata": {},
   "source": [
    "#### 16. Populate the values in *f*. \n",
    "\n",
    "For each value in *d*, if it's larger than *d_min* but smaller than *d_mean*, assign 25 to the corresponding value in *f*. If a value in *d* is larger than *d_mean* but smaller than *d_max*, assign 75 to the corresponding value in *f*. If a value equals to *d_mean*, assign 50 to the corresponding value in *f*. Assign 0 to the corresponding value(s) in *f* for *d_min* in *d*. Assign 100 to the corresponding value(s) in *f* for *d_max* in *d*. In the end, f should have only the following values: 0, 25, 50, 75, and 100.\n",
    "\n",
    "**Note**: you don't have to use Numpy in this question."
   ]
  },
  {
   "cell_type": "code",
   "execution_count": 18,
   "metadata": {},
   "outputs": [],
   "source": [
    "for array in d:\n",
    "    for sub_array in array:\n",
    "        for value in sub_array:\n",
    "            if d_min<value<d_mean:\n",
    "                f=np.where(f==value, 25, f)\n",
    "            elif d_mean<value<d_max:\n",
    "                f=np.where(f==value, 75, f)\n",
    "            elif value==d_mean:\n",
    "                f=np.where(f==value, 50, f)\n",
    "            elif value==d_min:\n",
    "                f=np.where(f==value, 0, f)\n",
    "            elif value==d_max:\n",
    "                f=np.where(f==value, 100, f)                            "
   ]
  },
  {
   "cell_type": "markdown",
   "metadata": {},
   "source": [
    "#### 17. Print *d* and *f*. Do you have your expected *f*?\n",
    "For instance, if your *d* is:\n",
    "```python\n",
    "[[[1.85836099, 1.67064465, 1.62576044, 1.40243961, 1.88454931],\n",
    "[1.75354326, 1.69403643, 1.36729252, 1.61415071, 1.12104981],\n",
    "[1.72201435, 1.1862918 , 1.87078449, 1.7726778 , 1.88180042]],\n",
    "[[1.44747908, 1.31673383, 1.02000951, 1.52218947, 1.97066381],\n",
    "[1.79129243, 1.74983003, 1.96028037, 1.85166831, 1.65450881],\n",
    "[1.18068344, 1.9587381 , 1.00656599, 1.93402165, 1.73514584]]]\n",
    "```\n",
    "Your *f* should be:\n",
    "```python\n",
    "[[[ 75.,  75.,  75.,  25.,  75.],\n",
    "[ 75.,  75.,  25.,  25.,  25.],\n",
    "[ 75.,  25.,  75.,  75.,  75.]],\n",
    "[[ 25.,  25.,  25.,  25., 100.],\n",
    "[ 75.,  75.,  75.,  75.,  75.],\n",
    "[ 25.,  75.,   0.,  75.,  75.]]]\n",
    "```"
   ]
  },
  {
   "cell_type": "code",
   "execution_count": 19,
   "metadata": {},
   "outputs": [
    {
     "name": "stdout",
     "output_type": "stream",
     "text": [
      "[[[1.2294035  1.42682434 1.65750807 1.40337642 1.93105268]\n",
      "  [1.57448443 1.52850155 1.89015096 1.18430407 1.3660558 ]\n",
      "  [1.3311136  1.82556136 1.78402248 1.94406718 1.61335732]]\n",
      "\n",
      " [[1.44576858 1.97613064 1.15046553 1.86768124 1.68113266]\n",
      "  [1.16420093 1.86891068 1.82288985 1.20622223 1.84213313]\n",
      "  [1.26342093 1.84481112 1.45051671 1.5761941  1.77604096]]]\n",
      "[[[ 25.  25.  75.  25.  75.]\n",
      "  [ 25.  25.  75.  25.  25.]\n",
      "  [ 25.  75.  75.  75.  75.]]\n",
      "\n",
      " [[ 25. 100.   0.  75.  75.]\n",
      "  [ 25.  75.  75.  25.  75.]\n",
      "  [ 25.  75.  25.  25.  75.]]]\n"
     ]
    }
   ],
   "source": [
    "print(d)\n",
    "print(f)"
   ]
  },
  {
   "cell_type": "markdown",
   "metadata": {},
   "source": [
    "#### 18. Bonus question: instead of using numbers (i.e. 0, 25, 50, 75, and 100), use string values  (\"A\", \"B\", \"C\", \"D\", and \"E\") to label the array elements. For the example above, the expected result is:\n",
    "\n",
    "```python\n",
    "[[[ 'D',  'D',  'D',  'B',  'D'],\n",
    "[ 'D',  'D',  'B',  'B',  'B'],\n",
    "[ 'D',  'B',  'D',  'D',  'D']],\n",
    "[[ 'B',  'B',  'B',  'B',  'E'],\n",
    "[ 'D',  'D',  'D',  'D',  'D'],\n",
    "[ 'B',  'D',   'A',  'D', 'D']]]\n",
    "```\n",
    "**Note**: you don't have to use Numpy in this question."
   ]
  },
  {
   "cell_type": "code",
   "execution_count": 33,
   "metadata": {},
   "outputs": [
    {
     "name": "stderr",
     "output_type": "stream",
     "text": [
      "<ipython-input-33-6b089895ce2d>:8: FutureWarning: elementwise comparison failed; returning scalar instead, but in the future will perform elementwise comparison\n",
      "  f=np.where(f==value, g[0], f)\n",
      "<ipython-input-33-6b089895ce2d>:10: FutureWarning: elementwise comparison failed; returning scalar instead, but in the future will perform elementwise comparison\n",
      "  f=np.where(f==value, g[1], f)\n",
      "<ipython-input-33-6b089895ce2d>:16: FutureWarning: elementwise comparison failed; returning scalar instead, but in the future will perform elementwise comparison\n",
      "  f=np.where(f==value, g[4], f)\n",
      "<ipython-input-33-6b089895ce2d>:14: FutureWarning: elementwise comparison failed; returning scalar instead, but in the future will perform elementwise comparison\n",
      "  f=np.where(f==value, g[3], f)\n"
     ]
    }
   ],
   "source": [
    "g=np.array([\"A\", \"B\", \"C\", \"D\", \"E\"])\n",
    "d\n",
    "f=np.empty((2,3,5))\n",
    "for array in d:\n",
    "    for sub_array in array:\n",
    "        for value in sub_array:\n",
    "            if d_min<value<d_mean:\n",
    "                f=np.where(f==value, g[0], f)\n",
    "            elif d_mean<value<d_max:\n",
    "                f=np.where(f==value, g[1], f)\n",
    "            elif value==d_mean:\n",
    "                f=np.where(f==value, g[2], f)\n",
    "            elif value==d_min:\n",
    "                f=np.where(f==value, g[3], f)\n",
    "            elif value==d_max:\n",
    "                f=np.where(f==value, g[4], f)  "
   ]
  },
  {
   "cell_type": "code",
   "execution_count": null,
   "metadata": {},
   "outputs": [],
   "source": []
  }
 ],
 "metadata": {
  "kernelspec": {
   "display_name": "Python 3",
   "language": "python",
   "name": "python3"
  },
  "language_info": {
   "codemirror_mode": {
    "name": "ipython",
    "version": 3
   },
   "file_extension": ".py",
   "mimetype": "text/x-python",
   "name": "python",
   "nbconvert_exporter": "python",
   "pygments_lexer": "ipython3",
   "version": "3.8.3"
  }
 },
 "nbformat": 4,
 "nbformat_minor": 2
}
